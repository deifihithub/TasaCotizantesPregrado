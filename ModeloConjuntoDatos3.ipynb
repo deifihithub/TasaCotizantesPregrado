{
 "cells": [
  {
   "cell_type": "markdown",
   "id": "70e272dc",
   "metadata": {},
   "source": [
    "### Pronóstico de la vinculación laboral al mercado formal de recién graduados de pregrado en Colombia\n",
    "### Autor: Deifilia Jiménez Silva\n",
    "### Fecha: Diciembre de 2023"
   ]
  },
  {
   "cell_type": "code",
   "execution_count": 1,
   "id": "878dc08b",
   "metadata": {},
   "outputs": [],
   "source": [
    "import pandas as pd\n",
    "import os\n",
    "import plotly.express as px\n",
    "from matplotlib import pyplot\n",
    "import matplotlib.pyplot as plt\n",
    "import pandas as pd\n",
    "import numpy as np\n",
    "import seaborn as sns\n",
    "from tabulate import tabulate\n",
    "from scipy.stats import chi2_contingency\n",
    "from sklearn.preprocessing import OneHotEncoder\n",
    "\n",
    "from sklearn.model_selection import train_test_split  #dividir los datos en entrenamiento y de test\n",
    "from sklearn.compose import ColumnTransformer\n",
    "from sklearn.pipeline import Pipeline #\n",
    "from sklearn.preprocessing import OneHotEncoder  #para trabajar variable categoricas para ser consumidas por el algoritmo\n",
    "from sklearn.impute import SimpleImputer  #imputar valores faltantes\n",
    "\n",
    "###Metricas\n",
    "from sklearn.model_selection import GridSearchCV  #para validación cruzada, analizar la estabilidad del algoritmo y obtener los mejores hiperparametros para realizar la predicción \n",
    "from sklearn import metrics  #para la evaluación\n",
    "from sklearn.metrics import mean_squared_error, r2_score,mean_absolute_error, mean_absolute_percentage_error\n",
    "\n",
    "###Modelos\n",
    "from sklearn.linear_model import LinearRegression\n",
    "from sklearn.ensemble import RandomForestRegressor ## algoritmo a utilizar\n",
    "from sklearn.neighbors import KNeighborsRegressor\n",
    "from sklearn.ensemble import GradientBoostingRegressor\n",
    "from sklearn.linear_model import Ridge\n",
    "from sklearn.svm import SVR\n",
    "from sklearn.tree import DecisionTreeRegressor\n",
    "import tensorflow as tf\n",
    "from sklearn.preprocessing import StandardScaler\n",
    "from tensorflow.keras.models import Sequential\n",
    "from tensorflow.keras.layers import Dense\n",
    "from scikeras.wrappers import KerasRegressor\n",
    "from sklearn.model_selection import ParameterGrid\n",
    "from keras.callbacks import EarlyStopping\n",
    "from keras.metrics import MeanSquaredError, MeanAbsoluteError\n",
    "from sklearn.impute import SimpleImputer\n",
    "from sklearn.preprocessing import StandardScaler\n"
   ]
  },
  {
   "cell_type": "markdown",
   "id": "f052e43c",
   "metadata": {},
   "source": [
    "## 1. CARGAR DATA"
   ]
  },
  {
   "cell_type": "code",
   "execution_count": 3,
   "id": "622f0ea0",
   "metadata": {},
   "outputs": [],
   "source": [
    "# Conjunto datos2\n",
    "ruta_excel = 'C:/Users/deifi/Documents/Maestría Unir/Asignaturas/Trabajo fin de Master/DatosTFM/df_Conjunto3.xlsx'\n",
    "\n",
    "# Carga el archivo Excel en un DataFrame de pandas\n",
    "dataModelo = pd.read_excel(ruta_excel)"
   ]
  },
  {
   "cell_type": "markdown",
   "id": "19aa2e00",
   "metadata": {},
   "source": [
    "## 2. DESCRIPCIÓN DATASET"
   ]
  },
  {
   "cell_type": "code",
   "execution_count": 4,
   "id": "ff8143b3",
   "metadata": {},
   "outputs": [
    {
     "name": "stdout",
     "output_type": "stream",
     "text": [
      "(189, 10)\n"
     ]
    }
   ],
   "source": [
    "#cantidad de instancias(189) y atributos(10)\n",
    "print(dataModelo.shape)"
   ]
  },
  {
   "cell_type": "code",
   "execution_count": 5,
   "id": "d607034f",
   "metadata": {},
   "outputs": [
    {
     "name": "stdout",
     "output_type": "stream",
     "text": [
      "\n"
     ]
    },
    {
     "data": {
      "text/html": [
       "<div>\n",
       "<style scoped>\n",
       "    .dataframe tbody tr th:only-of-type {\n",
       "        vertical-align: middle;\n",
       "    }\n",
       "\n",
       "    .dataframe tbody tr th {\n",
       "        vertical-align: top;\n",
       "    }\n",
       "\n",
       "    .dataframe thead th {\n",
       "        text-align: right;\n",
       "    }\n",
       "</style>\n",
       "<table border=\"1\" class=\"dataframe\">\n",
       "  <thead>\n",
       "    <tr style=\"text-align: right;\">\n",
       "      <th></th>\n",
       "      <th>Region</th>\n",
       "      <th>Departamento</th>\n",
       "      <th>Sector</th>\n",
       "      <th>Institución</th>\n",
       "      <th>Acreditación</th>\n",
       "      <th>NivelFormación</th>\n",
       "      <th>CampoAmplio</th>\n",
       "      <th>Programa</th>\n",
       "      <th>Sexo</th>\n",
       "      <th>TasaCotizantes</th>\n",
       "    </tr>\n",
       "  </thead>\n",
       "  <tbody>\n",
       "    <tr>\n",
       "      <th>0</th>\n",
       "      <td>Bogotá</td>\n",
       "      <td>11-Bogotá D.C.</td>\n",
       "      <td>Oficial</td>\n",
       "      <td>Universidad Distrital - Francisco José de Caldas</td>\n",
       "      <td>IES acreditada</td>\n",
       "      <td>Universitario</td>\n",
       "      <td>Ingeniería, Industria y Construcción</td>\n",
       "      <td>INGENIERIA ELECTRICA</td>\n",
       "      <td>Hombre</td>\n",
       "      <td>92.222222</td>\n",
       "    </tr>\n",
       "    <tr>\n",
       "      <th>1</th>\n",
       "      <td>Bogotá</td>\n",
       "      <td>11-Bogotá D.C.</td>\n",
       "      <td>Oficial</td>\n",
       "      <td>Universidad Distrital - Francisco José de Caldas</td>\n",
       "      <td>IES acreditada</td>\n",
       "      <td>Universitario</td>\n",
       "      <td>Ingeniería, Industria y Construcción</td>\n",
       "      <td>INGENIERIA ELECTRICA</td>\n",
       "      <td>Mujer</td>\n",
       "      <td>100.000000</td>\n",
       "    </tr>\n",
       "    <tr>\n",
       "      <th>2</th>\n",
       "      <td>Bogotá</td>\n",
       "      <td>11-Bogotá D.C.</td>\n",
       "      <td>Oficial</td>\n",
       "      <td>Universidad Nacional de Colombia</td>\n",
       "      <td>IES acreditada</td>\n",
       "      <td>Universitario</td>\n",
       "      <td>Ingeniería, Industria y Construcción</td>\n",
       "      <td>INGENIERIA ELECTRICA</td>\n",
       "      <td>Hombre</td>\n",
       "      <td>84.158416</td>\n",
       "    </tr>\n",
       "    <tr>\n",
       "      <th>3</th>\n",
       "      <td>Bogotá</td>\n",
       "      <td>11-Bogotá D.C.</td>\n",
       "      <td>Oficial</td>\n",
       "      <td>Universidad Nacional de Colombia</td>\n",
       "      <td>IES acreditada</td>\n",
       "      <td>Universitario</td>\n",
       "      <td>Ingeniería, Industria y Construcción</td>\n",
       "      <td>INGENIERIA ELECTRICA</td>\n",
       "      <td>Mujer</td>\n",
       "      <td>80.000000</td>\n",
       "    </tr>\n",
       "    <tr>\n",
       "      <th>4</th>\n",
       "      <td>Bogotá</td>\n",
       "      <td>11-Bogotá D.C.</td>\n",
       "      <td>Privado</td>\n",
       "      <td>Escuela Colombiana de Ingeniería Julio Garavito</td>\n",
       "      <td>IES acreditada</td>\n",
       "      <td>Universitario</td>\n",
       "      <td>Ingeniería, Industria y Construcción</td>\n",
       "      <td>INGENIERIA ELECTRICA</td>\n",
       "      <td>Hombre</td>\n",
       "      <td>82.352941</td>\n",
       "    </tr>\n",
       "  </tbody>\n",
       "</table>\n",
       "</div>"
      ],
      "text/plain": [
       "   Region    Departamento   Sector  \\\n",
       "0  Bogotá  11-Bogotá D.C.  Oficial   \n",
       "1  Bogotá  11-Bogotá D.C.  Oficial   \n",
       "2  Bogotá  11-Bogotá D.C.  Oficial   \n",
       "3  Bogotá  11-Bogotá D.C.  Oficial   \n",
       "4  Bogotá  11-Bogotá D.C.  Privado   \n",
       "\n",
       "                                        Institución    Acreditación  \\\n",
       "0  Universidad Distrital - Francisco José de Caldas  IES acreditada   \n",
       "1  Universidad Distrital - Francisco José de Caldas  IES acreditada   \n",
       "2                  Universidad Nacional de Colombia  IES acreditada   \n",
       "3                  Universidad Nacional de Colombia  IES acreditada   \n",
       "4   Escuela Colombiana de Ingeniería Julio Garavito  IES acreditada   \n",
       "\n",
       "  NivelFormación                           CampoAmplio              Programa  \\\n",
       "0  Universitario  Ingeniería, Industria y Construcción  INGENIERIA ELECTRICA   \n",
       "1  Universitario  Ingeniería, Industria y Construcción  INGENIERIA ELECTRICA   \n",
       "2  Universitario  Ingeniería, Industria y Construcción  INGENIERIA ELECTRICA   \n",
       "3  Universitario  Ingeniería, Industria y Construcción  INGENIERIA ELECTRICA   \n",
       "4  Universitario  Ingeniería, Industria y Construcción  INGENIERIA ELECTRICA   \n",
       "\n",
       "     Sexo  TasaCotizantes  \n",
       "0  Hombre       92.222222  \n",
       "1   Mujer      100.000000  \n",
       "2  Hombre       84.158416  \n",
       "3   Mujer       80.000000  \n",
       "4  Hombre       82.352941  "
      ]
     },
     "execution_count": 5,
     "metadata": {},
     "output_type": "execute_result"
    }
   ],
   "source": [
    "#Visualización de los primeros instancias\n",
    "print()\n",
    "dataModelo.head()"
   ]
  },
  {
   "cell_type": "code",
   "execution_count": 6,
   "id": "63729ae3",
   "metadata": {},
   "outputs": [
    {
     "name": "stdout",
     "output_type": "stream",
     "text": [
      "<class 'pandas.core.frame.DataFrame'>\n",
      "RangeIndex: 189 entries, 0 to 188\n",
      "Data columns (total 10 columns):\n",
      " #   Column          Non-Null Count  Dtype  \n",
      "---  ------          --------------  -----  \n",
      " 0   Region          189 non-null    object \n",
      " 1   Departamento    189 non-null    object \n",
      " 2   Sector          189 non-null    object \n",
      " 3   Institución     189 non-null    object \n",
      " 4   Acreditación    189 non-null    object \n",
      " 5   NivelFormación  189 non-null    object \n",
      " 6   CampoAmplio     189 non-null    object \n",
      " 7   Programa        189 non-null    object \n",
      " 8   Sexo            189 non-null    object \n",
      " 9   TasaCotizantes  189 non-null    float64\n",
      "dtypes: float64(1), object(9)\n",
      "memory usage: 14.9+ KB\n"
     ]
    }
   ],
   "source": [
    "#tipo de dato de cada variable, para saber cuales son categoricas y cuales númericas. \n",
    "#categóricas:Región, Departamento,Sector, Institución,Acreditación IES, Nivel Académico, Nivel Formación, Campo Amplio, Programa,Sexo\n",
    "#numéricas:Tasa de cotizantes, añoseguimiento,añogrado\n",
    "#no hay nulos tienen la misma cantidad de registros\n",
    "\n",
    "dataModelo.info()"
   ]
  },
  {
   "cell_type": "markdown",
   "id": "e92ee006",
   "metadata": {},
   "source": [
    "### Variable Objetivo\n",
    "La variable Tasa de cotizantes es la variable destino=target"
   ]
  },
  {
   "cell_type": "markdown",
   "id": "e0809df2",
   "metadata": {},
   "source": [
    ">- PREDICCIÓN LA DE TASA DE VINCULACION DE ACUERDO Al SECTOR, IES, ACREDITACION IES, NIVEL DE FORMACIÓN, CAMPO AMPLIO, PROGRAMA Y SEXO DE LA PERSONA\n"
   ]
  },
  {
   "cell_type": "code",
   "execution_count": 7,
   "id": "effe5b8e",
   "metadata": {},
   "outputs": [
    {
     "data": {
      "text/plain": [
       "count    189.000000\n",
       "mean      88.845973\n",
       "std       10.091403\n",
       "min       60.000000\n",
       "25%       83.333333\n",
       "50%       90.000000\n",
       "75%      100.000000\n",
       "max      100.000000\n",
       "Name: TasaCotizantes, dtype: float64"
      ]
     },
     "execution_count": 7,
     "metadata": {},
     "output_type": "execute_result"
    }
   ],
   "source": [
    "dataModelo.TasaCotizantes.describe()"
   ]
  },
  {
   "cell_type": "code",
   "execution_count": 8,
   "id": "a5cafd6f",
   "metadata": {},
   "outputs": [],
   "source": [
    "## 9 VARIABLES PREDICTORAS 1 OBJETIVO\n",
    "##Variable >Objetivo TasaCotizantes: Tasa de vinculaciónlaboral al mercado formal de la economía. \n",
    "##Variable continua por eso trabajaré Regresión"
   ]
  },
  {
   "cell_type": "code",
   "execution_count": 9,
   "id": "e836e0bc",
   "metadata": {},
   "outputs": [],
   "source": [
    "listado_variables=['TasaCotizantes','Region','Departamento','Sector','Institución','Acreditación','Sexo']"
   ]
  },
  {
   "cell_type": "code",
   "execution_count": 10,
   "id": "d752cad8",
   "metadata": {},
   "outputs": [],
   "source": [
    "dataModelo=dataModelo.reindex(columns=listado_variables)"
   ]
  },
  {
   "cell_type": "code",
   "execution_count": 11,
   "id": "effbd961",
   "metadata": {},
   "outputs": [
    {
     "data": {
      "text/html": [
       "<div>\n",
       "<style scoped>\n",
       "    .dataframe tbody tr th:only-of-type {\n",
       "        vertical-align: middle;\n",
       "    }\n",
       "\n",
       "    .dataframe tbody tr th {\n",
       "        vertical-align: top;\n",
       "    }\n",
       "\n",
       "    .dataframe thead th {\n",
       "        text-align: right;\n",
       "    }\n",
       "</style>\n",
       "<table border=\"1\" class=\"dataframe\">\n",
       "  <thead>\n",
       "    <tr style=\"text-align: right;\">\n",
       "      <th></th>\n",
       "      <th>TasaCotizantes</th>\n",
       "      <th>Region</th>\n",
       "      <th>Departamento</th>\n",
       "      <th>Sector</th>\n",
       "      <th>Institución</th>\n",
       "      <th>Acreditación</th>\n",
       "      <th>Sexo</th>\n",
       "    </tr>\n",
       "  </thead>\n",
       "  <tbody>\n",
       "    <tr>\n",
       "      <th>0</th>\n",
       "      <td>92.222222</td>\n",
       "      <td>Bogotá</td>\n",
       "      <td>11-Bogotá D.C.</td>\n",
       "      <td>Oficial</td>\n",
       "      <td>Universidad Distrital - Francisco José de Caldas</td>\n",
       "      <td>IES acreditada</td>\n",
       "      <td>Hombre</td>\n",
       "    </tr>\n",
       "    <tr>\n",
       "      <th>1</th>\n",
       "      <td>100.000000</td>\n",
       "      <td>Bogotá</td>\n",
       "      <td>11-Bogotá D.C.</td>\n",
       "      <td>Oficial</td>\n",
       "      <td>Universidad Distrital - Francisco José de Caldas</td>\n",
       "      <td>IES acreditada</td>\n",
       "      <td>Mujer</td>\n",
       "    </tr>\n",
       "    <tr>\n",
       "      <th>2</th>\n",
       "      <td>84.158416</td>\n",
       "      <td>Bogotá</td>\n",
       "      <td>11-Bogotá D.C.</td>\n",
       "      <td>Oficial</td>\n",
       "      <td>Universidad Nacional de Colombia</td>\n",
       "      <td>IES acreditada</td>\n",
       "      <td>Hombre</td>\n",
       "    </tr>\n",
       "    <tr>\n",
       "      <th>3</th>\n",
       "      <td>80.000000</td>\n",
       "      <td>Bogotá</td>\n",
       "      <td>11-Bogotá D.C.</td>\n",
       "      <td>Oficial</td>\n",
       "      <td>Universidad Nacional de Colombia</td>\n",
       "      <td>IES acreditada</td>\n",
       "      <td>Mujer</td>\n",
       "    </tr>\n",
       "    <tr>\n",
       "      <th>4</th>\n",
       "      <td>82.352941</td>\n",
       "      <td>Bogotá</td>\n",
       "      <td>11-Bogotá D.C.</td>\n",
       "      <td>Privado</td>\n",
       "      <td>Escuela Colombiana de Ingeniería Julio Garavito</td>\n",
       "      <td>IES acreditada</td>\n",
       "      <td>Hombre</td>\n",
       "    </tr>\n",
       "  </tbody>\n",
       "</table>\n",
       "</div>"
      ],
      "text/plain": [
       "   TasaCotizantes  Region    Departamento   Sector  \\\n",
       "0       92.222222  Bogotá  11-Bogotá D.C.  Oficial   \n",
       "1      100.000000  Bogotá  11-Bogotá D.C.  Oficial   \n",
       "2       84.158416  Bogotá  11-Bogotá D.C.  Oficial   \n",
       "3       80.000000  Bogotá  11-Bogotá D.C.  Oficial   \n",
       "4       82.352941  Bogotá  11-Bogotá D.C.  Privado   \n",
       "\n",
       "                                        Institución    Acreditación    Sexo  \n",
       "0  Universidad Distrital - Francisco José de Caldas  IES acreditada  Hombre  \n",
       "1  Universidad Distrital - Francisco José de Caldas  IES acreditada   Mujer  \n",
       "2                  Universidad Nacional de Colombia  IES acreditada  Hombre  \n",
       "3                  Universidad Nacional de Colombia  IES acreditada   Mujer  \n",
       "4   Escuela Colombiana de Ingeniería Julio Garavito  IES acreditada  Hombre  "
      ]
     },
     "execution_count": 11,
     "metadata": {},
     "output_type": "execute_result"
    }
   ],
   "source": [
    "dataModelo.head()"
   ]
  },
  {
   "cell_type": "markdown",
   "id": "fe8493c7",
   "metadata": {},
   "source": [
    "### Identificar tipo de datos predictores"
   ]
  },
  {
   "cell_type": "code",
   "execution_count": 12,
   "id": "724c222c",
   "metadata": {},
   "outputs": [
    {
     "name": "stdout",
     "output_type": "stream",
     "text": [
      "<class 'pandas.core.frame.DataFrame'>\n",
      "RangeIndex: 189 entries, 0 to 188\n",
      "Data columns (total 7 columns):\n",
      " #   Column          Non-Null Count  Dtype  \n",
      "---  ------          --------------  -----  \n",
      " 0   TasaCotizantes  189 non-null    float64\n",
      " 1   Region          189 non-null    object \n",
      " 2   Departamento    189 non-null    object \n",
      " 3   Sector          189 non-null    object \n",
      " 4   Institución     189 non-null    object \n",
      " 5   Acreditación    189 non-null    object \n",
      " 6   Sexo            189 non-null    object \n",
      "dtypes: float64(1), object(6)\n",
      "memory usage: 10.5+ KB\n"
     ]
    }
   ],
   "source": [
    "dataModelo.info()"
   ]
  },
  {
   "cell_type": "markdown",
   "id": "860a3204",
   "metadata": {},
   "source": [
    "## Preprocesamiento de datos Columns Transformer de sckit-learn"
   ]
  },
  {
   "cell_type": "code",
   "execution_count": 13,
   "id": "733b475b",
   "metadata": {},
   "outputs": [],
   "source": [
    "categorical_features = ['Region', 'Departamento', 'Sector', 'Institución', 'Acreditación','Sexo']\n",
    "\n",
    "numeric_features = []"
   ]
  },
  {
   "cell_type": "code",
   "execution_count": 14,
   "id": "09d33c38",
   "metadata": {},
   "outputs": [],
   "source": [
    "y=dataModelo.loc[:,'TasaCotizantes']# variable objetivo\n",
    "X = dataModelo.iloc[:, 1:]#predictores"
   ]
  },
  {
   "cell_type": "code",
   "execution_count": 15,
   "id": "64bed073",
   "metadata": {},
   "outputs": [],
   "source": [
    "#print(X)"
   ]
  },
  {
   "cell_type": "code",
   "execution_count": 16,
   "id": "c551c857",
   "metadata": {},
   "outputs": [],
   "source": [
    "#print (y)"
   ]
  },
  {
   "cell_type": "code",
   "execution_count": 17,
   "id": "3b250a1d",
   "metadata": {},
   "outputs": [],
   "source": [
    "# Crear transformadores para variables categóricas y numéricas\n",
    "categorical_transformer = Pipeline(steps=[\n",
    "    ('imputer', SimpleImputer(strategy='constant', fill_value='sinInformacion')),\n",
    "    ('onehot', OneHotEncoder(handle_unknown='ignore'))\n",
    "])\n",
    "\n",
    "numeric_transformer = Pipeline(steps=[\n",
    "    ('imputer', SimpleImputer(strategy='mean'))  # Puedes cambiar 'mean' por otra estrategia de imputación\n",
    "])\n"
   ]
  },
  {
   "cell_type": "code",
   "execution_count": 18,
   "id": "060c695a",
   "metadata": {},
   "outputs": [],
   "source": [
    "# Crear un preprocesador que aplique transformadores según el tipo de variable\n",
    "preprocessor = ColumnTransformer(\n",
    "    transformers=[\n",
    "        ('num', numeric_transformer, numeric_features),\n",
    "        ('cat', categorical_transformer, categorical_features)\n",
    "    ])"
   ]
  },
  {
   "cell_type": "markdown",
   "id": "b77e876a",
   "metadata": {},
   "source": [
    "## División del dataset en datos de entrenamiento y datos de test "
   ]
  },
  {
   "cell_type": "code",
   "execution_count": 19,
   "id": "cf1ea5fc",
   "metadata": {},
   "outputs": [],
   "source": [
    "# Dividir el conjunto de datos en conjuntos de entrenamiento y prueba 70:30\n",
    "X_train, X_test, y_train, y_test = train_test_split(X, y, test_size=0.3, random_state=42)\n",
    "#stratify=y garantiza que la proporción de clases en y_train e y_test sea similar a la proporción en y. Esto es crucial cuando hay desbalance en las clases\n",
    "##no se puede utilizar porque la case objeto hay programas con un dato"
   ]
  },
  {
   "cell_type": "code",
   "execution_count": 20,
   "id": "7274c90d",
   "metadata": {},
   "outputs": [
    {
     "name": "stdout",
     "output_type": "stream",
     "text": [
      "Cantidad de datos entrenamiento:  (132, 6) (132,)\n",
      "Cantidad de datos pruebas:  (57, 6) (57,)\n"
     ]
    }
   ],
   "source": [
    "print('Cantidad de datos entrenamiento: ',X_train.shape,y_train.shape)\n",
    "print('Cantidad de datos pruebas: ', X_test.shape, y_test.shape )"
   ]
  },
  {
   "cell_type": "markdown",
   "id": "281f2e03",
   "metadata": {},
   "source": [
    "# 1. Aplicación de k-NN Regresión con Scikit-Learn"
   ]
  },
  {
   "cell_type": "markdown",
   "id": "1cc4ebc3",
   "metadata": {},
   "source": [
    "SIN APLICAR PESOS"
   ]
  },
  {
   "cell_type": "code",
   "execution_count": 21,
   "id": "302af7a2",
   "metadata": {},
   "outputs": [],
   "source": [
    "# Crear el modelo k-NN Regresión\n",
    "knn_regressor = KNeighborsRegressor(n_neighbors=7, weights= 'uniform')  # Puedes ajustar el número de vecinos según tu preferencia\n",
    "\n",
    "# Crear el pipeline que incluye el preprocesador y el modelo\n",
    "model = Pipeline(steps=[('preprocessor', preprocessor),\n",
    "                        ('regressor', knn_regressor)])"
   ]
  },
  {
   "cell_type": "code",
   "execution_count": 22,
   "id": "9dee6198",
   "metadata": {},
   "outputs": [
    {
     "name": "stdout",
     "output_type": "stream",
     "text": [
      "Mejores hiperparámetros: {'regressor__n_neighbors': 9, 'regressor__weights': 'uniform'}\n"
     ]
    }
   ],
   "source": [
    "# Definir los hiperparámetros que deseas ajustar\n",
    "param_grid = {\n",
    "    'regressor__n_neighbors': [3, 5, 7, 9],  # Puedes ajustar los valores según tu preferencia\n",
    "    'regressor__weights': ['uniform', 'distance']\n",
    "}\n",
    "\n",
    "# Configurar la búsqueda de cuadrícula con validación cruzada\n",
    "grid_search = GridSearchCV(model, param_grid, cv=5, scoring='neg_mean_squared_error', n_jobs=-1)\n",
    "\n",
    "# Ajustar la búsqueda de cuadrícula a los datos\n",
    "grid_search.fit(X_train, y_train)\n",
    "\n",
    "# Obtener los mejores hiperparámetros\n",
    "best_params = grid_search.best_params_\n",
    "print(f\"Mejores hiperparámetros: {best_params}\")\n",
    "\n",
    "# Obtener el mejor modelo ajustado\n",
    "best_model = grid_search.best_estimator_\n",
    "\n",
    "# Realizar predicciones en el conjunto de prueba\n",
    "y_pred = best_model.predict(X_test)"
   ]
  },
  {
   "cell_type": "code",
   "execution_count": 23,
   "id": "0af22bc4",
   "metadata": {},
   "outputs": [],
   "source": [
    "# Entrenar el modelo\n",
    "model.fit(X_train, y_train)\n",
    "\n",
    "# Realizar predicciones en el conjunto de prueba\n",
    "y_pred = model.predict(X_test)\n"
   ]
  },
  {
   "cell_type": "markdown",
   "id": "dc4846e2",
   "metadata": {},
   "source": [
    "La tasa de error de un modelo predictivo puede evaluarse aplicando varias métricas derivadas de funciones de perdida en ML y en estadística. El concepto básico de la evaluación de la precisión en el análisis de regresión consiste en comparar la variable objetivo con la predicha"
   ]
  },
  {
   "cell_type": "code",
   "execution_count": 24,
   "id": "aa38d0df",
   "metadata": {},
   "outputs": [
    {
     "name": "stdout",
     "output_type": "stream",
     "text": [
      "coeficiente de determinación (R^2): 0.08342484055672861\n",
      "La raiz del Error Cuadratico Medio (RMSE) es : 9.961624252303885\n",
      "error absoluto medio MAE: 7.624950637521837\n",
      "porcentaje absoluto medio del error MAPE: 9.333446766528589\n"
     ]
    }
   ],
   "source": [
    "# Evaluar el rendimiento del modelo \n",
    "\n",
    "## El RMSE se interpreta como el error típico de las predicciones del modelo\n",
    "\n",
    "rfr_r2 = r2_score(y_test, y_pred)\n",
    "print('coeficiente de determinación (R^2):', rfr_r2)\n",
    "\n",
    "rfr_RSME=metrics.mean_squared_error(y_test,y_pred, squared=False)\n",
    "print('La raiz del Error Cuadratico Medio (RMSE) es :',rfr_RSME)\n",
    "\n",
    "\n",
    "# MAE (error absoluto medio)\n",
    "mae = mean_absolute_error(y_test, y_pred)\n",
    "print('error absoluto medio MAE:', mae)\n",
    "\n",
    "# MAPE (porcentaje absoluto medio del error)\n",
    "mape = np.mean(np.abs((y_test - y_pred) / y_test)) * 100\n",
    "print('porcentaje absoluto medio del error MAPE:', mape)"
   ]
  },
  {
   "cell_type": "code",
   "execution_count": 25,
   "id": "ce03cb39",
   "metadata": {},
   "outputs": [
    {
     "data": {
      "image/png": "[encoded data removed]",
      "text/plain": [
       "<Figure size 800x600 with 1 Axes>"
      ]
     },
     "metadata": {},
     "output_type": "display_data"
    }
   ],
   "source": [
    "# Graficar el RMSE\n",
    "plt.figure(figsize=(8, 6))\n",
    "plt.scatter(y_test, y_pred, color='#449CC8', label='Datos reales vs. Predicciones')\n",
    "plt.plot([min(y_test), max(y_test)], [min(y_test), max(y_test)], linestyle='--', color='red', label='Línea de referencia')\n",
    "plt.title('Gráfico de Predicciones vs. Datos reales')\n",
    "plt.xlabel('TacaCotizantes-Datos reales')\n",
    "plt.ylabel('TacaCotizantes-Predicciones')\n",
    "plt.legend()\n",
    "plt.show()"
   ]
  },
  {
   "cell_type": "code",
   "execution_count": 27,
   "id": "6df20698",
   "metadata": {},
   "outputs": [
    {
     "data": {
      "image/png": "[encoded data removed]",
      "text/plain": [
       "<Figure size 800x600 with 1 Axes>"
      ]
     },
     "metadata": {},
     "output_type": "display_data"
    }
   ],
   "source": [
    "# Graficar el R^2\n",
    "plt.figure(figsize=(8, 6))\n",
    "plt.scatter(y_test, y_pred, color='#449CC8', label='Datos reales vs. Predicciones')\n",
    "plt.plot([min(y_test), max(y_test)], [min(y_test), max(y_test)], linestyle='--', color='red', label='Línea de referencia')\n",
    "plt.title('Gráfico de Predicciones vs. Datos reales con R^2')\n",
    "plt.xlabel('Datos reales')\n",
    "plt.ylabel('Predicciones')\n",
    "plt.legend()\n",
    "\n",
    "# Agregar texto con el valor de R^2\n",
    "plt.text(0.8 * max(y_test), 0.1 * max(y_test), f'R^2 = {rfr_r2:.2f}', fontsize=12, color='green')\n",
    "\n",
    "plt.show()"
   ]
  },
  {
   "cell_type": "code",
   "execution_count": 28,
   "id": "d6ab18cb",
   "metadata": {},
   "outputs": [
    {
     "data": {
      "text/html": [
       "<div>\n",
       "<style scoped>\n",
       "    .dataframe tbody tr th:only-of-type {\n",
       "        vertical-align: middle;\n",
       "    }\n",
       "\n",
       "    .dataframe tbody tr th {\n",
       "        vertical-align: top;\n",
       "    }\n",
       "\n",
       "    .dataframe thead th {\n",
       "        text-align: right;\n",
       "    }\n",
       "</style>\n",
       "<table border=\"1\" class=\"dataframe\">\n",
       "  <thead>\n",
       "    <tr style=\"text-align: right;\">\n",
       "      <th></th>\n",
       "      <th>Test</th>\n",
       "      <th>Predict</th>\n",
       "    </tr>\n",
       "  </thead>\n",
       "  <tbody>\n",
       "    <tr>\n",
       "      <th>0</th>\n",
       "      <td>75.000000</td>\n",
       "      <td>81.730769</td>\n",
       "    </tr>\n",
       "    <tr>\n",
       "      <th>1</th>\n",
       "      <td>100.000000</td>\n",
       "      <td>87.133949</td>\n",
       "    </tr>\n",
       "    <tr>\n",
       "      <th>2</th>\n",
       "      <td>100.000000</td>\n",
       "      <td>87.439759</td>\n",
       "    </tr>\n",
       "    <tr>\n",
       "      <th>3</th>\n",
       "      <td>95.555556</td>\n",
       "      <td>96.038146</td>\n",
       "    </tr>\n",
       "    <tr>\n",
       "      <th>4</th>\n",
       "      <td>87.500000</td>\n",
       "      <td>84.567226</td>\n",
       "    </tr>\n",
       "    <tr>\n",
       "      <th>5</th>\n",
       "      <td>91.666667</td>\n",
       "      <td>86.088833</td>\n",
       "    </tr>\n",
       "    <tr>\n",
       "      <th>6</th>\n",
       "      <td>96.969697</td>\n",
       "      <td>88.595037</td>\n",
       "    </tr>\n",
       "    <tr>\n",
       "      <th>7</th>\n",
       "      <td>60.000000</td>\n",
       "      <td>90.824057</td>\n",
       "    </tr>\n",
       "    <tr>\n",
       "      <th>8</th>\n",
       "      <td>85.714286</td>\n",
       "      <td>93.141321</td>\n",
       "    </tr>\n",
       "    <tr>\n",
       "      <th>9</th>\n",
       "      <td>68.493151</td>\n",
       "      <td>83.238972</td>\n",
       "    </tr>\n",
       "    <tr>\n",
       "      <th>10</th>\n",
       "      <td>85.000000</td>\n",
       "      <td>85.104051</td>\n",
       "    </tr>\n",
       "    <tr>\n",
       "      <th>11</th>\n",
       "      <td>100.000000</td>\n",
       "      <td>89.078965</td>\n",
       "    </tr>\n",
       "    <tr>\n",
       "      <th>12</th>\n",
       "      <td>87.500000</td>\n",
       "      <td>91.298289</td>\n",
       "    </tr>\n",
       "    <tr>\n",
       "      <th>13</th>\n",
       "      <td>82.608696</td>\n",
       "      <td>88.595037</td>\n",
       "    </tr>\n",
       "    <tr>\n",
       "      <th>14</th>\n",
       "      <td>97.368421</td>\n",
       "      <td>96.038146</td>\n",
       "    </tr>\n",
       "    <tr>\n",
       "      <th>15</th>\n",
       "      <td>88.235294</td>\n",
       "      <td>81.715019</td>\n",
       "    </tr>\n",
       "    <tr>\n",
       "      <th>16</th>\n",
       "      <td>93.396226</td>\n",
       "      <td>89.571468</td>\n",
       "    </tr>\n",
       "    <tr>\n",
       "      <th>17</th>\n",
       "      <td>90.000000</td>\n",
       "      <td>89.460784</td>\n",
       "    </tr>\n",
       "    <tr>\n",
       "      <th>18</th>\n",
       "      <td>100.000000</td>\n",
       "      <td>88.265360</td>\n",
       "    </tr>\n",
       "    <tr>\n",
       "      <th>19</th>\n",
       "      <td>90.000000</td>\n",
       "      <td>88.595037</td>\n",
       "    </tr>\n",
       "    <tr>\n",
       "      <th>20</th>\n",
       "      <td>96.000000</td>\n",
       "      <td>90.206324</td>\n",
       "    </tr>\n",
       "    <tr>\n",
       "      <th>21</th>\n",
       "      <td>92.207792</td>\n",
       "      <td>89.571468</td>\n",
       "    </tr>\n",
       "    <tr>\n",
       "      <th>22</th>\n",
       "      <td>85.714286</td>\n",
       "      <td>92.288037</td>\n",
       "    </tr>\n",
       "    <tr>\n",
       "      <th>23</th>\n",
       "      <td>85.937500</td>\n",
       "      <td>83.238972</td>\n",
       "    </tr>\n",
       "    <tr>\n",
       "      <th>24</th>\n",
       "      <td>93.670886</td>\n",
       "      <td>91.181569</td>\n",
       "    </tr>\n",
       "    <tr>\n",
       "      <th>25</th>\n",
       "      <td>100.000000</td>\n",
       "      <td>90.824057</td>\n",
       "    </tr>\n",
       "    <tr>\n",
       "      <th>26</th>\n",
       "      <td>100.000000</td>\n",
       "      <td>94.340925</td>\n",
       "    </tr>\n",
       "    <tr>\n",
       "      <th>27</th>\n",
       "      <td>94.736842</td>\n",
       "      <td>91.833167</td>\n",
       "    </tr>\n",
       "    <tr>\n",
       "      <th>28</th>\n",
       "      <td>100.000000</td>\n",
       "      <td>90.844917</td>\n",
       "    </tr>\n",
       "    <tr>\n",
       "      <th>29</th>\n",
       "      <td>100.000000</td>\n",
       "      <td>87.439759</td>\n",
       "    </tr>\n",
       "    <tr>\n",
       "      <th>30</th>\n",
       "      <td>100.000000</td>\n",
       "      <td>93.141321</td>\n",
       "    </tr>\n",
       "    <tr>\n",
       "      <th>31</th>\n",
       "      <td>60.000000</td>\n",
       "      <td>89.078965</td>\n",
       "    </tr>\n",
       "    <tr>\n",
       "      <th>32</th>\n",
       "      <td>94.736842</td>\n",
       "      <td>91.298289</td>\n",
       "    </tr>\n",
       "    <tr>\n",
       "      <th>33</th>\n",
       "      <td>100.000000</td>\n",
       "      <td>93.618881</td>\n",
       "    </tr>\n",
       "    <tr>\n",
       "      <th>34</th>\n",
       "      <td>97.115385</td>\n",
       "      <td>91.181569</td>\n",
       "    </tr>\n",
       "    <tr>\n",
       "      <th>35</th>\n",
       "      <td>76.923077</td>\n",
       "      <td>84.635153</td>\n",
       "    </tr>\n",
       "    <tr>\n",
       "      <th>36</th>\n",
       "      <td>88.888889</td>\n",
       "      <td>81.715019</td>\n",
       "    </tr>\n",
       "    <tr>\n",
       "      <th>37</th>\n",
       "      <td>63.157895</td>\n",
       "      <td>85.104051</td>\n",
       "    </tr>\n",
       "    <tr>\n",
       "      <th>38</th>\n",
       "      <td>90.909091</td>\n",
       "      <td>87.135153</td>\n",
       "    </tr>\n",
       "    <tr>\n",
       "      <th>39</th>\n",
       "      <td>84.615385</td>\n",
       "      <td>85.104051</td>\n",
       "    </tr>\n",
       "    <tr>\n",
       "      <th>40</th>\n",
       "      <td>95.454545</td>\n",
       "      <td>81.715019</td>\n",
       "    </tr>\n",
       "    <tr>\n",
       "      <th>41</th>\n",
       "      <td>74.358974</td>\n",
       "      <td>89.525356</td>\n",
       "    </tr>\n",
       "    <tr>\n",
       "      <th>42</th>\n",
       "      <td>90.322581</td>\n",
       "      <td>96.038146</td>\n",
       "    </tr>\n",
       "    <tr>\n",
       "      <th>43</th>\n",
       "      <td>100.000000</td>\n",
       "      <td>88.265360</td>\n",
       "    </tr>\n",
       "    <tr>\n",
       "      <th>44</th>\n",
       "      <td>94.230769</td>\n",
       "      <td>84.567226</td>\n",
       "    </tr>\n",
       "    <tr>\n",
       "      <th>45</th>\n",
       "      <td>100.000000</td>\n",
       "      <td>91.923436</td>\n",
       "    </tr>\n",
       "    <tr>\n",
       "      <th>46</th>\n",
       "      <td>84.615385</td>\n",
       "      <td>90.629983</td>\n",
       "    </tr>\n",
       "    <tr>\n",
       "      <th>47</th>\n",
       "      <td>100.000000</td>\n",
       "      <td>93.141321</td>\n",
       "    </tr>\n",
       "    <tr>\n",
       "      <th>48</th>\n",
       "      <td>89.473684</td>\n",
       "      <td>90.206324</td>\n",
       "    </tr>\n",
       "    <tr>\n",
       "      <th>49</th>\n",
       "      <td>93.939394</td>\n",
       "      <td>90.629983</td>\n",
       "    </tr>\n",
       "    <tr>\n",
       "      <th>50</th>\n",
       "      <td>96.296296</td>\n",
       "      <td>89.571468</td>\n",
       "    </tr>\n",
       "    <tr>\n",
       "      <th>51</th>\n",
       "      <td>70.833333</td>\n",
       "      <td>88.665594</td>\n",
       "    </tr>\n",
       "    <tr>\n",
       "      <th>52</th>\n",
       "      <td>86.842105</td>\n",
       "      <td>90.629983</td>\n",
       "    </tr>\n",
       "    <tr>\n",
       "      <th>53</th>\n",
       "      <td>84.722222</td>\n",
       "      <td>83.238972</td>\n",
       "    </tr>\n",
       "    <tr>\n",
       "      <th>54</th>\n",
       "      <td>84.615385</td>\n",
       "      <td>87.133949</td>\n",
       "    </tr>\n",
       "    <tr>\n",
       "      <th>55</th>\n",
       "      <td>75.000000</td>\n",
       "      <td>92.288037</td>\n",
       "    </tr>\n",
       "    <tr>\n",
       "      <th>56</th>\n",
       "      <td>86.666667</td>\n",
       "      <td>89.525356</td>\n",
       "    </tr>\n",
       "  </tbody>\n",
       "</table>\n",
       "</div>"
      ],
      "text/plain": [
       "          Test    Predict\n",
       "0    75.000000  81.730769\n",
       "1   100.000000  87.133949\n",
       "2   100.000000  87.439759\n",
       "3    95.555556  96.038146\n",
       "4    87.500000  84.567226\n",
       "5    91.666667  86.088833\n",
       "6    96.969697  88.595037\n",
       "7    60.000000  90.824057\n",
       "8    85.714286  93.141321\n",
       "9    68.493151  83.238972\n",
       "10   85.000000  85.104051\n",
       "11  100.000000  89.078965\n",
       "12   87.500000  91.298289\n",
       "13   82.608696  88.595037\n",
       "14   97.368421  96.038146\n",
       "15   88.235294  81.715019\n",
       "16   93.396226  89.571468\n",
       "17   90.000000  89.460784\n",
       "18  100.000000  88.265360\n",
       "19   90.000000  88.595037\n",
       "20   96.000000  90.206324\n",
       "21   92.207792  89.571468\n",
       "22   85.714286  92.288037\n",
       "23   85.937500  83.238972\n",
       "24   93.670886  91.181569\n",
       "25  100.000000  90.824057\n",
       "26  100.000000  94.340925\n",
       "27   94.736842  91.833167\n",
       "28  100.000000  90.844917\n",
       "29  100.000000  87.439759\n",
       "30  100.000000  93.141321\n",
       "31   60.000000  89.078965\n",
       "32   94.736842  91.298289\n",
       "33  100.000000  93.618881\n",
       "34   97.115385  91.181569\n",
       "35   76.923077  84.635153\n",
       "36   88.888889  81.715019\n",
       "37   63.157895  85.104051\n",
       "38   90.909091  87.135153\n",
       "39   84.615385  85.104051\n",
       "40   95.454545  81.715019\n",
       "41   74.358974  89.525356\n",
       "42   90.322581  96.038146\n",
       "43  100.000000  88.265360\n",
       "44   94.230769  84.567226\n",
       "45  100.000000  91.923436\n",
       "46   84.615385  90.629983\n",
       "47  100.000000  93.141321\n",
       "48   89.473684  90.206324\n",
       "49   93.939394  90.629983\n",
       "50   96.296296  89.571468\n",
       "51   70.833333  88.665594\n",
       "52   86.842105  90.629983\n",
       "53   84.722222  83.238972\n",
       "54   84.615385  87.133949\n",
       "55   75.000000  92.288037\n",
       "56   86.666667  89.525356"
      ]
     },
     "metadata": {},
     "output_type": "display_data"
    }
   ],
   "source": [
    "comparacion=pd.DataFrame(np.c_[y_test, y_pred],columns=['Test','Predict'])\n",
    "display(comparacion)"
   ]
  },
  {
   "cell_type": "code",
   "execution_count": 29,
   "id": "60fe9d19",
   "metadata": {},
   "outputs": [
    {
     "data": {
      "image/png": "[encoded data removed]",
      "text/plain": [
       "<Figure size 1000x600 with 1 Axes>"
      ]
     },
     "metadata": {},
     "output_type": "display_data"
    }
   ],
   "source": [
    "# Graficar la comparación\n",
    "plt.figure(figsize=(10, 6))\n",
    "plt.scatter(comparacion.index, comparacion['Test'], color='blue', label='Test')\n",
    "plt.scatter(comparacion.index, comparacion['Predict'], color='red', label='Predict')\n",
    "plt.xlabel('Índice')\n",
    "plt.ylabel('TasaCotizantes')\n",
    "plt.title('Comparación entre Test y Predict')\n",
    "plt.legend()\n",
    "plt.show()"
   ]
  },
  {
   "cell_type": "markdown",
   "id": "64df23c7",
   "metadata": {},
   "source": [
    "# 2. Regresión Lineal"
   ]
  },
  {
   "cell_type": "code",
   "execution_count": null,
   "id": "14b3305a",
   "metadata": {},
   "outputs": [],
   "source": [
    "# Crear el modelo de Regresión Lineal\n",
    "regression_model = LinearRegression()"
   ]
  },
  {
   "cell_type": "code",
   "execution_count": null,
   "id": "2f80ee22",
   "metadata": {},
   "outputs": [],
   "source": [
    "# Crear el pipeline con preprocesamiento y el modelo\n",
    "model = Pipeline(steps=[('preprocessor', preprocessor),                        \n",
    "                        ('regressor', regression_model)])"
   ]
  },
  {
   "cell_type": "code",
   "execution_count": null,
   "id": "c162a4c7",
   "metadata": {},
   "outputs": [],
   "source": [
    "# Entrenar el modelo\n",
    "model.fit(X_train, y_train)"
   ]
  },
  {
   "cell_type": "code",
   "execution_count": null,
   "id": "3cbed3bf",
   "metadata": {},
   "outputs": [],
   "source": [
    "# Realizar predicciones en el conjunto de prueba\n",
    "y_pred = model.predict(X_test)\n"
   ]
  },
  {
   "cell_type": "code",
   "execution_count": null,
   "id": "5eb78ea6",
   "metadata": {},
   "outputs": [],
   "source": [
    "# Evaluar el rendimiento del modelo\n",
    "## El RMSE se interpreta como el error típico de las predicciones del modelo\n",
    "\n",
    "rfr_r2 = r2_score(y_test, y_pred)\n",
    "print('coeficiente de determinación (R^2):', rfr_r2)\n",
    "\n",
    "rfr_RSME=metrics.mean_squared_error(y_test,y_pred, squared=False)\n",
    "print('La raiz del Error Cuadratico Medio (RMSE) es :',rfr_RSME)\n",
    "\n",
    "\n",
    "# MAE (error absoluto medio)\n",
    "mae = mean_absolute_error(y_test, y_pred)\n",
    "print('error absoluto medio MAE:', mae)\n",
    "\n",
    "# MAPE (porcentaje absoluto medio del error)\n",
    "mape = np.mean(np.abs((y_test - y_pred) / y_test)) * 100\n",
    "print('porcentaje absoluto medio del error MAPE:', mape)"
   ]
  },
  {
   "cell_type": "code",
   "execution_count": null,
   "id": "4c22b1de",
   "metadata": {},
   "outputs": [],
   "source": [
    "# Graficar el RMSE\n",
    "plt.figure(figsize=(8, 6))\n",
    "plt.scatter(y_test, y_pred, color='#449CC8', label='Datos reales vs. Predicciones')\n",
    "plt.plot([min(y_test), max(y_test)], [min(y_test), max(y_test)], linestyle='--', color='red', label='Línea de referencia')\n",
    "plt.title('Gráfico de Predicciones vs. Datos reales')\n",
    "plt.xlabel('Datos reales')\n",
    "plt.ylabel('Predicciones')\n",
    "plt.legend()\n",
    "plt.show()"
   ]
  },
  {
   "cell_type": "code",
   "execution_count": null,
   "id": "28a13679",
   "metadata": {},
   "outputs": [],
   "source": [
    "# Graficar el R^2\n",
    "plt.figure(figsize=(8, 6))\n",
    "plt.scatter(y_test, y_pred, color='#449CC8', label='Datos reales vs. Predicciones')\n",
    "plt.plot([min(y_test), max(y_test)], [min(y_test), max(y_test)], linestyle='--', color='red', label='Línea de referencia')\n",
    "plt.title('Gráfico de Predicciones vs. Datos reales con R^2')\n",
    "plt.xlabel('Datos reales')\n",
    "plt.ylabel('Predicciones')\n",
    "plt.legend()\n",
    "\n",
    "# Agregar texto con el valor de R^2\n",
    "plt.text(0.8 * max(y_test), 0.1 * max(y_test), f'R^2 = {rfr_r2:.2f}', fontsize=12, color='green')\n",
    "\n",
    "plt.show()"
   ]
  },
  {
   "cell_type": "code",
   "execution_count": null,
   "id": "7e5e112d",
   "metadata": {},
   "outputs": [],
   "source": [
    "comparacion=pd.DataFrame(np.c_[y_test, y_pred],columns=['Test','Predict'])\n",
    "display(comparacion)"
   ]
  },
  {
   "cell_type": "code",
   "execution_count": null,
   "id": "40ea46ad",
   "metadata": {},
   "outputs": [],
   "source": [
    "# Graficar la comparación\n",
    "plt.figure(figsize=(10, 6))\n",
    "plt.scatter(comparacion.index, comparacion['Test'], color='blue', label='Test')\n",
    "plt.scatter(comparacion.index, comparacion['Predict'], color='red', label='Predict')\n",
    "plt.xlabel('Índice')\n",
    "plt.ylabel('TasaCotizantes')\n",
    "plt.title('Comparación entre Test y Predict')\n",
    "plt.legend()\n",
    "plt.show()"
   ]
  },
  {
   "cell_type": "markdown",
   "id": "6cf6d282",
   "metadata": {},
   "source": [
    "# 3. Random Forest Regressor"
   ]
  },
  {
   "cell_type": "code",
   "execution_count": null,
   "id": "ddece685",
   "metadata": {},
   "outputs": [],
   "source": [
    "# Crear el modelo Random Forest Regressor\n",
    "model = RandomForestRegressor(n_estimators=100,\n",
    "                              criterion='squared_error',\n",
    "                              min_samples_leaf= 4, \n",
    "                              min_samples_split= 10,\n",
    "                              max_depth=20,\n",
    "                              max_features='sqrt',\n",
    "                              random_state=42)"
   ]
  },
  {
   "cell_type": "code",
   "execution_count": null,
   "id": "0c0753d0",
   "metadata": {},
   "outputs": [],
   "source": [
    "'''\n",
    "# Definir los hiperparámetros a ajustar\n",
    "model = RandomForestRegressor(random_state=42)\n",
    "data_encoded = dataModelo.copy()\n",
    "\n",
    "# Seleccionar columnas categóricas\n",
    "categorical_cols = ['Region', 'Departamento', 'Sector', 'Institución', 'Acreditación', 'Sexo']\n",
    "\n",
    "# Aplicar codificación one-hot a las columnas categóricas\n",
    "data_encoded = pd.get_dummies(data_encoded, columns=categorical_cols)\n",
    "\n",
    "# Definir las características (X) y la variable objetivo (y)\n",
    "X = data_encoded.drop('TasaCotizantes', axis=1)\n",
    "y = data_encoded['TasaCotizantes']\n",
    "\n",
    "# Dividir el conjunto de datos en conjuntos de entrenamiento y prueba\n",
    "X_train, X_test, y_train, y_test = train_test_split(X, y, test_size=0.2, random_state=42)\n",
    "\n",
    "# Inicializar el modelo Random Forest Regressor\n",
    "model = RandomForestRegressor()\n",
    "\n",
    "# Definir parámetros para la búsqueda de cuadrícula\n",
    "param_grid = {\n",
    "    'n_estimators': [50, 100, 200],\n",
    "    'max_depth': [None, 10, 20],\n",
    "    'min_samples_split': [2, 5, 10],\n",
    "    'min_samples_leaf': [1, 2, 4]\n",
    "}\n",
    "\n",
    "# Inicializar la búsqueda de cuadrícula\n",
    "grid_search = GridSearchCV(model, param_grid, cv=5, scoring='neg_mean_squared_error', n_jobs=-1)\n",
    "\n",
    "# Ajustar la búsqueda de cuadrícula a los datos\n",
    "grid_search.fit(X_train, y_train)\n",
    "\n",
    "# Obtener los mejores hiperparámetros\n",
    "best_params = grid_search.best_params_\n",
    "print(\"Mejores hiperparámetros:\", best_params)\n",
    "\n",
    "'''\n",
    "\n",
    "print(\"Código para elegir los mejores Hiperparámetros\")\n"
   ]
  },
  {
   "cell_type": "code",
   "execution_count": null,
   "id": "4987abf7",
   "metadata": {},
   "outputs": [],
   "source": [
    "# Crear el pipeline con el preprocesador y el modelo\n",
    "pipeline = Pipeline([\n",
    "    ('preprocessor', preprocessor),\n",
    "    ('model', model)\n",
    "])"
   ]
  },
  {
   "cell_type": "code",
   "execution_count": null,
   "id": "793cf85d",
   "metadata": {},
   "outputs": [],
   "source": [
    "# Entrenar el modelo\n",
    "pipeline.fit(X_train, y_train)"
   ]
  },
  {
   "cell_type": "code",
   "execution_count": null,
   "id": "fcb66f10",
   "metadata": {},
   "outputs": [],
   "source": [
    "# Hacer predicciones en el conjunto de prueba\n",
    "y_pred = pipeline.predict(X_test)"
   ]
  },
  {
   "cell_type": "code",
   "execution_count": null,
   "id": "8e97312c",
   "metadata": {},
   "outputs": [],
   "source": [
    "# Evaluar el rendimiento del modelo \n",
    "\n",
    "## El RMSE se interpreta como el error típico de las predicciones del modelo\n",
    "\n",
    "rfr_r2 = r2_score(y_test, y_pred)\n",
    "print('coeficiente de determinación (R^2):', rfr_r2)\n",
    "\n",
    "rfr_RSME=metrics.mean_squared_error(y_test,y_pred, squared=False)\n",
    "print('La raiz del Error Cuadratico Medio (RMSE) es :',rfr_RSME)\n",
    "\n",
    "\n",
    "# MAE (error absoluto medio)\n",
    "mae = mean_absolute_error(y_test, y_pred)\n",
    "print('error absoluto medio MAE:', mae)\n",
    "\n",
    "# MAPE (porcentaje absoluto medio del error)\n",
    "mape = np.mean(np.abs((y_test - y_pred) / y_test)) * 100\n",
    "print('porcentaje absoluto medio del error MAPE:', mape)"
   ]
  },
  {
   "cell_type": "markdown",
   "id": "e223a765",
   "metadata": {},
   "source": [
    "Es la diferencia del valor real con respecto a la predicción que realizamos. El error en el que estamos cayendo en la tasa de cotizantes es de 12.73% con 100 árboles y con 300 12.73% no hay mucha diferencia.Con un aumento en la cantidad de árboles, la precisión del modelo aumenta y se reduce el sobreajuste. Sin embargo, esto hace que el modelo sea más lento."
   ]
  },
  {
   "cell_type": "code",
   "execution_count": null,
   "id": "6eb17a2e",
   "metadata": {},
   "outputs": [],
   "source": [
    "# Graficar el RMSE\n",
    "plt.figure(figsize=(8, 6))\n",
    "plt.scatter(y_test, y_pred, color='#449CC8', label='Datos reales vs. Predicciones')\n",
    "plt.plot([min(y_test), max(y_test)], [min(y_test), max(y_test)], linestyle='--', color='red', label='Línea de referencia')\n",
    "plt.title('Gráfico de Predicciones vs. Datos reales')\n",
    "plt.xlabel('Datos reales')\n",
    "plt.ylabel('Predicciones')\n",
    "plt.legend()\n",
    "plt.show()"
   ]
  },
  {
   "cell_type": "code",
   "execution_count": null,
   "id": "bfe9a2b5",
   "metadata": {},
   "outputs": [],
   "source": [
    " #Graficar el R^2\n",
    "plt.figure(figsize=(8, 6))\n",
    "plt.scatter(y_test, y_pred, color='#449CC8', label='Datos reales vs. Predicciones')\n",
    "plt.plot([min(y_test), max(y_test)], [min(y_test), max(y_test)], linestyle='--', color='red', label='Línea de referencia')\n",
    "plt.title('Gráfico de Predicciones vs. Datos reales con R^2')\n",
    "plt.xlabel('Datos reales')\n",
    "plt.ylabel('Predicciones')\n",
    "plt.legend()\n",
    "\n",
    "# Agregar texto con el valor de R^2\n",
    "plt.text(0.8 * max(y_test), 0.1 * max(y_test), f'R^2 = {rfr_r2:.2f}', fontsize=12, color='green')\n",
    "\n",
    "plt.show()"
   ]
  },
  {
   "cell_type": "code",
   "execution_count": null,
   "id": "ada05662",
   "metadata": {},
   "outputs": [],
   "source": [
    "comparacion=pd.DataFrame(np.c_[y_test, y_pred],columns=['Test','Predict'])\n",
    "display(comparacion)"
   ]
  },
  {
   "cell_type": "markdown",
   "id": "865745c8",
   "metadata": {},
   "source": [
    "Test es el valor real(color azul) y el predic(color rojo) hace referencia a la predicción, en unos casos esta muy cercana mientras que otros está muy lejana"
   ]
  },
  {
   "cell_type": "code",
   "execution_count": null,
   "id": "63981e70",
   "metadata": {},
   "outputs": [],
   "source": [
    "# Graficar la comparación\n",
    "plt.figure(figsize=(10, 6))\n",
    "plt.scatter(comparacion.index, comparacion['Test'], color='blue', label='Test')\n",
    "plt.scatter(comparacion.index, comparacion['Predict'], color='red', label='Predict')\n",
    "plt.xlabel('Índice')\n",
    "plt.ylabel('TasaCotizantes')\n",
    "plt.title('Comparación entre Test y Predict')\n",
    "plt.legend()\n",
    "plt.show()"
   ]
  },
  {
   "cell_type": "markdown",
   "id": "9adb84ae",
   "metadata": {},
   "source": [
    "# 4. Gradient Boosting Regressor"
   ]
  },
  {
   "cell_type": "code",
   "execution_count": null,
   "id": "762bdedb",
   "metadata": {},
   "outputs": [],
   "source": [
    "# Construir el modelo Gradient Boosting Regressor\n",
    "model = GradientBoostingRegressor(n_estimators=20, learning_rate=0.1, max_depth=3, random_state=42)"
   ]
  },
  {
   "cell_type": "code",
   "execution_count": null,
   "id": "43f7d19d",
   "metadata": {},
   "outputs": [],
   "source": [
    "# Crear el pipeline que incluye el preprocesamiento y el modelo\n",
    "pipeline = Pipeline(steps=[('preprocessor', preprocessor),\n",
    "                           ('model', model)])\n"
   ]
  },
  {
   "cell_type": "code",
   "execution_count": null,
   "id": "25dea734",
   "metadata": {},
   "outputs": [],
   "source": [
    "# Ajustar el modelo\n",
    "pipeline.fit(X_train, y_train)"
   ]
  },
  {
   "cell_type": "code",
   "execution_count": null,
   "id": "2aa93b14",
   "metadata": {},
   "outputs": [],
   "source": [
    "# Realizar predicciones en el conjunto de prueba\n",
    "y_pred = pipeline.predict(X_test)"
   ]
  },
  {
   "cell_type": "code",
   "execution_count": null,
   "id": "e7f2967e",
   "metadata": {},
   "outputs": [],
   "source": [
    "# Evaluar el rendimiento del modelo\n",
    "rfr_r2 = r2_score(y_test, y_pred)\n",
    "print('coeficiente de determinación (R^2):', rfr_r2)\n",
    "\n",
    "rfr_RSME=metrics.mean_squared_error(y_test,y_pred, squared=False)\n",
    "print('La raiz del Error Cuadratico Medio (RMSE) es :',rfr_RSME)\n",
    "\n",
    "\n",
    "# MAE (error absoluto medio)\n",
    "mae = mean_absolute_error(y_test, y_pred)\n",
    "print('error absoluto medio MAE:', mae)\n",
    "\n",
    "# MAPE (porcentaje absoluto medio del error)\n",
    "mape = np.mean(np.abs((y_test - y_pred) / y_test)) * 100\n",
    "print('porcentaje absoluto medio del error MAPE:', mape)"
   ]
  },
  {
   "cell_type": "markdown",
   "id": "b88e8d9a",
   "metadata": {},
   "source": [
    "Mejora un poco con n_estimators=20\n"
   ]
  },
  {
   "cell_type": "code",
   "execution_count": null,
   "id": "90475b3f",
   "metadata": {},
   "outputs": [],
   "source": [
    "# Graficar el RMSE\n",
    "plt.figure(figsize=(8, 6))\n",
    "plt.scatter(y_test, y_pred, color='#449CC8', label='Datos reales vs. Predicciones')\n",
    "plt.plot([min(y_test), max(y_test)], [min(y_test), max(y_test)], linestyle='--', color='red', label='Línea de referencia')\n",
    "plt.title('Gráfico de Predicciones vs. Datos reales')\n",
    "plt.xlabel('Datos reales')\n",
    "plt.ylabel('Predicciones')\n",
    "plt.legend()\n",
    "plt.show()"
   ]
  },
  {
   "cell_type": "code",
   "execution_count": null,
   "id": "ee008a1f",
   "metadata": {},
   "outputs": [],
   "source": [
    " #Graficar el R^2\n",
    "plt.figure(figsize=(8, 6))\n",
    "plt.scatter(y_test, y_pred, color='#449CC8', label='Datos reales vs. Predicciones')\n",
    "plt.plot([min(y_test), max(y_test)], [min(y_test), max(y_test)], linestyle='--', color='red', label='Línea de referencia')\n",
    "plt.title('Gráfico de Predicciones vs. Datos reales con R^2')\n",
    "plt.xlabel('Datos reales')\n",
    "plt.ylabel('Predicciones')\n",
    "plt.legend()\n",
    "\n",
    "# Agregar texto con el valor de R^2\n",
    "plt.text(0.8 * max(y_test), 0.1 * max(y_test), f'R^2 = {rfr_r2:.2f}', fontsize=12, color='green')\n",
    "\n",
    "plt.show()"
   ]
  },
  {
   "cell_type": "code",
   "execution_count": null,
   "id": "a40e8b99",
   "metadata": {},
   "outputs": [],
   "source": [
    "comparacion=pd.DataFrame(np.c_[y_test, y_pred],columns=['Test','Predict'])\n",
    "display(comparacion)"
   ]
  },
  {
   "cell_type": "code",
   "execution_count": null,
   "id": "29457d1e",
   "metadata": {},
   "outputs": [],
   "source": [
    "# Graficar la comparación\n",
    "plt.figure(figsize=(10, 6))\n",
    "plt.scatter(comparacion.index, comparacion['Test'], color='blue', label='Test')\n",
    "plt.scatter(comparacion.index, comparacion['Predict'], color='red', label='Predict')\n",
    "plt.xlabel('Índice')\n",
    "plt.ylabel('TasaCotizantes')\n",
    "plt.title('Comparación entre Test y Predict')\n",
    "plt.legend()\n",
    "plt.show()"
   ]
  },
  {
   "cell_type": "markdown",
   "id": "9caac3e1",
   "metadata": {},
   "source": [
    "## 5. Support Vector Regressor (SVR)"
   ]
  },
  {
   "cell_type": "code",
   "execution_count": null,
   "id": "e0286a36",
   "metadata": {},
   "outputs": [],
   "source": [
    "# Inicializar el modelo SVR\n",
    "model = SVR(kernel='rbf')"
   ]
  },
  {
   "cell_type": "code",
   "execution_count": null,
   "id": "5c26ec95",
   "metadata": {},
   "outputs": [],
   "source": [
    "# Crear el pipeline con el preprocesador y el modelo\n",
    "pipeline = Pipeline([\n",
    "    ('preprocessor', preprocessor),\n",
    "    ('model', model)\n",
    "])"
   ]
  },
  {
   "cell_type": "code",
   "execution_count": null,
   "id": "c6f9e7ed",
   "metadata": {},
   "outputs": [],
   "source": [
    "# Entrenar el modelo\n",
    "pipeline.fit(X_train, y_train)"
   ]
  },
  {
   "cell_type": "code",
   "execution_count": null,
   "id": "7040ed78",
   "metadata": {},
   "outputs": [],
   "source": [
    "# Realizar predicciones en el conjunto de prueba\n",
    "y_pred = pipeline.predict(X_test)"
   ]
  },
  {
   "cell_type": "code",
   "execution_count": null,
   "id": "c6eeb39e",
   "metadata": {},
   "outputs": [],
   "source": [
    "# Evaluar el rendimiento del modelo\n",
    "rfr_r2 = r2_score(y_test, y_pred)\n",
    "print('coeficiente de determinación (R^2):', rfr_r2)\n",
    "\n",
    "rfr_RSME=metrics.mean_squared_error(y_test,y_pred, squared=False)\n",
    "print('La raiz del Error Cuadratico Medio (RMSE) es :',rfr_RSME)\n",
    "\n",
    "\n",
    "# MAE (error absoluto medio)\n",
    "mae = mean_absolute_error(y_test, y_pred)\n",
    "print('error absoluto medio MAE:', mae)\n",
    "\n",
    "# MAPE (porcentaje absoluto medio del error)\n",
    "mape = np.mean(np.abs((y_test - y_pred) / y_test)) * 100\n",
    "print('porcentaje absoluto medio del error MAPE:', mape)\n",
    "\n",
    "# Graficar el RMSE\n",
    "plt.figure(figsize=(8, 6))\n",
    "plt.scatter(y_test, y_pred, color='#449CC8', label='Datos reales vs. Predicciones')\n",
    "plt.plot([min(y_test), max(y_test)], [min(y_test), max(y_test)], linestyle='--', color='red', label='Línea de referencia')\n",
    "plt.title('Gráfico de Predicciones vs. Datos reales')\n",
    "plt.xlabel('Datos reales')\n",
    "plt.ylabel('Predicciones')\n",
    "plt.legend()\n",
    "plt.show()\n"
   ]
  },
  {
   "cell_type": "code",
   "execution_count": null,
   "id": "2106d31b",
   "metadata": {},
   "outputs": [],
   "source": [
    " #Graficar el R^2\n",
    "plt.figure(figsize=(8, 6))\n",
    "plt.scatter(y_test, y_pred, color='#449CC8', label='Datos reales vs. Predicciones')\n",
    "plt.plot([min(y_test), max(y_test)], [min(y_test), max(y_test)], linestyle='--', color='red', label='Línea de referencia')\n",
    "plt.title('Gráfico de Predicciones vs. Datos reales con R^2')\n",
    "plt.xlabel('Datos reales')\n",
    "plt.ylabel('Predicciones')\n",
    "plt.legend()\n",
    "\n",
    "# Agregar texto con el valor de R^2\n",
    "plt.text(0.8 * max(y_test), 0.1 * max(y_test), f'R^2 = {rfr_r2:.2f}', fontsize=12, color='green')\n",
    "\n",
    "plt.show()"
   ]
  },
  {
   "cell_type": "code",
   "execution_count": null,
   "id": "25b04ad4",
   "metadata": {},
   "outputs": [],
   "source": [
    "# Graficar la comparación\n",
    "plt.figure(figsize=(10, 6))\n",
    "plt.scatter(comparacion.index, comparacion['Test'], color='blue', label='Test')\n",
    "plt.scatter(comparacion.index, comparacion['Predict'], color='red', label='Predict')\n",
    "plt.xlabel('Índice')\n",
    "plt.ylabel('TasaCotizantes')\n",
    "plt.title('Comparación entre Test y Predict')\n",
    "plt.legend()\n",
    "plt.show()"
   ]
  },
  {
   "cell_type": "markdown",
   "id": "03e24019",
   "metadata": {},
   "source": [
    "# 6 Red Neuronal (Neural Network)"
   ]
  },
  {
   "cell_type": "code",
   "execution_count": null,
   "id": "4860f113",
   "metadata": {},
   "outputs": [],
   "source": [
    "\n",
    "# Define la métrica de R² personalizada\n",
    "def r2_metric(y_true, y_pred):\n",
    "    SS_res = tf.reduce_sum(tf.square(y_true - y_pred))\n",
    "    SS_tot = tf.reduce_sum(tf.square(y_true - tf.reduce_mean(y_true)))\n",
    "    return 1 - SS_res / (SS_tot + tf.keras.backend.epsilon())\n",
    "\n",
    "# Registrar la métrica en el ámbito de objetos personalizados de Keras\n",
    "tf.keras.utils.get_custom_objects()['r2_score'] = r2_metric\n",
    "\n",
    "# Dividir el conjunto de datos en conjuntos de entrenamiento y prueba\n",
    "X_train, X_test, y_train, y_test = train_test_split(X, y, test_size=0.2, random_state=42)\n",
    "\n",
    "# Combina los conjuntos de entrenamiento y prueba antes de la transformación\n",
    "X_combined = pd.concat([X_train, X_test])\n",
    "\n",
    "# Definir columnas que necesitan ser codificadas\n",
    "categorical_cols = ['Region', 'Departamento', 'Sector', 'Institución', 'Acreditación', 'Sexo']\n",
    "numeric_cols = []  # Asegúrate de incluir la columna objetivo si es numérica\n",
    "\n",
    "# Crear transformadores para variables categóricas y numéricas\n",
    "categorical_transformer = Pipeline(steps=[\n",
    "    ('imputer', SimpleImputer(strategy='constant', fill_value='sinInformacion')),\n",
    "    ('onehot', OneHotEncoder(handle_unknown='ignore'))\n",
    "])\n",
    "\n",
    "numeric_transformer = Pipeline(steps=[\n",
    "    ('imputer', SimpleImputer(strategy='mean')),\n",
    "    ('scaler', StandardScaler())\n",
    "])\n",
    "\n",
    "# Crear un transformador para aplicar codificación a columnas categóricas y normalización a columnas numéricas\n",
    "preprocessor = ColumnTransformer(\n",
    "    transformers=[\n",
    "        ('num', numeric_transformer, numeric_cols),\n",
    "        ('cat', categorical_transformer, categorical_cols)\n",
    "    ])\n",
    "\n",
    "# Aplicar transformaciones al conjunto combinado\n",
    "X_combined_preprocessed = preprocessor.fit_transform(X_combined)\n",
    "\n",
    "# Separar de nuevo en conjuntos de entrenamiento y prueba\n",
    "X_train_preprocessed = preprocessor.transform(X_train)\n",
    "X_test_preprocessed = preprocessor.transform(X_test)\n",
    "\n",
    "# Convertir las matrices dispersas a densas\n",
    "X_train_preprocessed_dense = X_train_preprocessed.toarray()\n",
    "X_test_preprocessed_dense = X_test_preprocessed.toarray()\n",
    "\n",
    "# Convertir los datos a tf.data.Dataset\n",
    "train_dataset = tf.data.Dataset.from_tensor_slices((X_train_preprocessed_dense, y_train))\n",
    "test_dataset = tf.data.Dataset.from_tensor_slices((X_test_preprocessed_dense, y_test))\n",
    "\n",
    "# Asegúrate de mezclar y repetir los datos (opcional, dependiendo de tus necesidades)\n",
    "train_dataset = train_dataset.shuffle(buffer_size=1024).batch(32).repeat()\n",
    "test_dataset = test_dataset.batch(32)\n",
    "\n",
    "# Inicializar el modelo de Red Neuronal\n",
    "architecture = 128\n",
    "model = Sequential()\n",
    "model.add(Dense(architecture, activation='relu', input_dim=X_train_preprocessed_dense.shape[1]))\n",
    "model.add(Dense(architecture, activation='relu'))  # Capa oculta adicional\n",
    "model.add(Dense(1))  # Capa de salida para regresión\n",
    "\n",
    "# Compilar el modelo con R^2 como métrica adicional\n",
    "model.compile(optimizer='adam', loss='mean_squared_error', metrics=[MeanSquaredError(), MeanAbsoluteError(), 'mape', 'r2_score'])\n",
    "\n",
    "# Callback para detener el entrenamiento temprano si no hay mejoras\n",
    "early_stopping = EarlyStopping(monitor='val_loss', patience=5, restore_best_weights=True)\n",
    "\n",
    "# Dividir manualmente el conjunto de entrenamiento para tener un conjunto de validación\n",
    "X_train_split, X_val_split, y_train_split, y_val_split = train_test_split(\n",
    "    X_train_preprocessed_dense, y_train, test_size=0.3, random_state=42)\n",
    "\n",
    "# Entrenar el modelo con callback de EarlyStopping\n",
    "history = model.fit(\n",
    "    train_dataset,\n",
    "    epochs=50,\n",
    "    steps_per_epoch=X_train_preprocessed_dense.shape[0] // 32,\n",
    "    validation_data=test_dataset,\n",
    "    validation_steps=len(X_test_preprocessed_dense) // 32,\n",
    "    callbacks=[early_stopping]\n",
    ")"
   ]
  },
  {
   "cell_type": "code",
   "execution_count": null,
   "id": "048daf8a",
   "metadata": {},
   "outputs": [],
   "source": [
    "# Realizar predicciones en el conjunto de prueba\n",
    "y_pred = model.predict(X_test_preprocessed_dense).flatten()\n"
   ]
  },
  {
   "cell_type": "code",
   "execution_count": null,
   "id": "2bcb0005",
   "metadata": {},
   "outputs": [],
   "source": [
    "# Evaluar el rendimiento del modelo\n",
    "#loss = model.evaluate(X_test_preprocessed_dense, y_test, verbose=0)\n",
    "loss, mse, mae, mape, r2_score = model.evaluate(X_val_split, y_val_split)\n",
    "#mse = mean_squared_error(y_test, y_pred)\n",
    "#mae = mean_absolute_error(y_test, y_pred)\n",
    "#r2 = r2_score(y_test, y_pred)\n",
    "#mape = mean_absolute_percentage_error(y_test, y_pred)\n",
    "\n",
    "print(f'R² Score: {r2_score}')\n",
    "print(f'Loss: {loss}')\n",
    "print(f'Mean Squared Error (MSE): {mse}')\n",
    "print(f'Mean Absolute Error (MAE): {mae}')\n",
    "print(f'Mean Absolute Percentage Error (MAPE): {mape}')\n",
    "\n",
    "# Visualizar curvas de pérdida\n",
    "plt.plot(history.history['loss'], label='Training Loss')\n",
    "plt.plot(history.history['val_loss'], label='Validation Loss')\n",
    "plt.xlabel('Epoch')\n",
    "plt.ylabel('Loss')\n",
    "plt.legend()\n",
    "plt.show()"
   ]
  },
  {
   "cell_type": "markdown",
   "id": "215e5660",
   "metadata": {},
   "source": [
    "## Elección de Hiperparámetos para redes"
   ]
  },
  {
   "cell_type": "code",
   "execution_count": null,
   "id": "5096c083",
   "metadata": {},
   "outputs": [],
   "source": [
    "\n",
    "from sklearn.model_selection import KFold\n",
    "# Función auxiliar para crear el modelo\n",
    "def create_model(architecture=32, optimizer='adam'):\n",
    "    model = Sequential()\n",
    "    for _ in range(architecture):\n",
    "        model.add(Dense(32, activation='relu'))\n",
    "    model.add(Dense(1))\n",
    "    model.compile(optimizer=optimizer, loss='mean_squared_error')\n",
    "    return model\n",
    "\n",
    "# Datos de entrenamiento y prueba \n",
    "X_train = np.random.rand(100, 10)\n",
    "y_train = np.random.rand(100)\n",
    "X_test = np.random.rand(20, 10)\n",
    "y_test = np.random.rand(20)\n",
    "\n",
    "# Definir la cuadrícula de hiperparámetros para la búsqueda\n",
    "param_grid = {\n",
    "    'architecture': [32, 64, 128],\n",
    "    'optimizer': ['adam', 'sgd']\n",
    "}\n",
    "kf = KFold(n_splits=5, shuffle=True, random_state=42)\n",
    "best_params = None\n",
    "best_model = None\n",
    "best_score = np.inf  # Inicializar con un valor grande\n",
    "\n",
    "# Búsqueda de hiperparámetros\n",
    "# Búsqueda de hiperparámetros\n",
    "for params in ParameterGrid(param_grid):\n",
    "    mse_scores = []\n",
    "    for train_index, val_index in kf.split(X_train):\n",
    "        X_train_fold, X_val_fold = X_train[train_index], X_train[val_index]\n",
    "        y_train_fold, y_val_fold = y_train[train_index], y_train[val_index]\n",
    "\n",
    "        model = create_model(**params)\n",
    "        \n",
    "        # Modificación: Añadir history para recopilar información durante el entrenamiento\n",
    "        history = model.fit(X_train_fold, y_train_fold, epochs=50, batch_size=32, verbose=0, validation_data=(X_val_fold, y_val_fold))\n",
    "        \n",
    "        y_val_pred = model.predict(X_val_fold)\n",
    "        mse_fold = mean_squared_error(y_val_fold, y_val_pred)\n",
    "        mse_scores.append(mse_fold)\n",
    "\n",
    "    avg_mse = np.mean(mse_scores)\n",
    "    if avg_mse < best_score:\n",
    "        best_score = avg_mse\n",
    "        best_params = params\n",
    "        best_model = model\n",
    "\n",
    "# Imprimir los mejores hiperparámetros encontrados\n",
    "print(\"Mejores Hiperparámetros:\", best_params)\n",
    "\n",
    "# Evaluar el rendimiento del modelo con los mejores hiperparámetros\n",
    "y_pred = best_model.predict(X_test)\n",
    "mse = mean_squared_error(y_test, y_pred)\n",
    "r2 = r2_score(y_test, y_pred)\n",
    "\n",
    "\n",
    "print(f'Mean Squared Error (MSE): {mse}')\n",
    "print(f'R^2 Score: {r2}')\n",
    "\n",
    "# Modificación: Visualizar la pérdida durante el entrenamiento\n",
    "plt.plot(history.history['loss'], label='Training Loss')\n",
    "plt.plot(history.history['val_loss'], label='Validation Loss')\n",
    "plt.xlabel('Epoch')\n",
    "plt.ylabel('Loss')\n",
    "plt.legend()\n",
    "plt.show()"
   ]
  }
 ],
 "metadata": {
  "kernelspec": {
   "display_name": "Python 3 (ipykernel)",
   "language": "python",
   "name": "python3"
  },
  "language_info": {
   "codemirror_mode": {
    "name": "ipython",
    "version": 3
   },
   "file_extension": ".py",
   "mimetype": "text/x-python",
   "name": "python",
   "nbconvert_exporter": "python",
   "pygments_lexer": "ipython3",
   "version": "3.9.13"
  }
 },
 "nbformat": 4,
 "nbformat_minor": 5
}
